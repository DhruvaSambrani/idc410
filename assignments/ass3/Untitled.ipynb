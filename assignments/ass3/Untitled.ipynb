{
 "cells": [
  {
   "cell_type": "code",
   "execution_count": 1,
   "id": "9fe523cd",
   "metadata": {},
   "outputs": [],
   "source": [
    "import tensorflow as tf\n",
    "import matplotlib.pyplot as plt"
   ]
  },
  {
   "cell_type": "code",
   "execution_count": 2,
   "id": "2e33efba",
   "metadata": {},
   "outputs": [],
   "source": [
    "import numpy as np\n",
    "import os\n",
    "\n",
    "def load_raw(path, name):\n",
    "    return (\n",
    "        np.load(os.path.join(path, '{}.npy'.format(name)), encoding='bytes', allow_pickle=True), \n",
    "        np.load(os.path.join(path, '{}_labels.npy'.format(name)), encoding='bytes', allow_pickle=True)\n",
    "    )"
   ]
  },
  {
   "cell_type": "code",
   "execution_count": 3,
   "id": "38eb34a5",
   "metadata": {},
   "outputs": [],
   "source": [
    "# Load Data\n",
    "tempX, tempY = load_raw(\"/home/dhruva/idrive/My Stuff/sem8/idc410/assignments/ass3/data\", 'dev')"
   ]
  },
  {
   "cell_type": "markdown",
   "id": "376e6cf8",
   "metadata": {},
   "source": [
    "# Assuming 1 Frame - 1 Phonem model\n",
    "\n",
    "We assume that each phoneme matches to exactly one frame. Hence our first layer should be of `40` length and our last layer should be of length `138`. Further, due to data labels being catagorical, we use the `SparseCategoricalCrossentropy` as the loss function. `ADAM` optimizer was chosen as per usual models. Similarly, `relu` was the activation function for all layers except the last one, which was activated by `softmax`.\n",
    "\n",
    "The number of layers were chosen by increasing layers and checking if test accuracy was increasing or not. We saw that there is only marginal increase between 2 and 3 layers, so we chose 4 layers to be cautious.\n",
    "\n",
    "The number of nodes in each layers were chosen randomly, but these can also be optimized over."
   ]
  },
  {
   "cell_type": "code",
   "execution_count": 4,
   "id": "4b8e610b",
   "metadata": {},
   "outputs": [],
   "source": [
    "# Concat and shuffle all frames\n",
    "trainX = np.concatenate(tempX)\n",
    "trainY = np.concatenate(tempY)\n",
    "args = np.arange(len(trainX))\n",
    "np.random.shuffle(args)\n",
    "trainX = trainX[args]\n",
    "trainY = trainY[args]"
   ]
  },
  {
   "cell_type": "code",
   "execution_count": 5,
   "id": "bd36809e",
   "metadata": {
    "scrolled": true
   },
   "outputs": [
    {
     "name": "stderr",
     "output_type": "stream",
     "text": [
      "2022-04-29 03:43:53.843816: I tensorflow/compiler/jit/xla_cpu_device.cc:41] Not creating XLA devices, tf_xla_enable_xla_devices not set\n",
      "2022-04-29 03:43:53.844085: I tensorflow/core/platform/cpu_feature_guard.cc:142] This TensorFlow binary is optimized with oneAPI Deep Neural Network Library (oneDNN) to use the following CPU instructions in performance-critical operations:  SSE4.1 SSE4.2 AVX AVX2 FMA\n",
      "To enable them in other operations, rebuild TensorFlow with the appropriate compiler flags.\n",
      "2022-04-29 03:43:53.845328: I tensorflow/core/common_runtime/process_util.cc:146] Creating new thread pool with default inter op setting: 2. Tune using inter_op_parallelism_threads for best performance.\n",
      "2022-04-29 03:43:53.917903: I tensorflow/compiler/mlir/mlir_graph_optimization_pass.cc:116] None of the MLIR optimization passes are enabled (registered 2)\n",
      "2022-04-29 03:43:53.933276: I tensorflow/core/platform/profile_utils/cpu_utils.cc:112] CPU Frequency: 2000800000 Hz\n"
     ]
    },
    {
     "name": "stdout",
     "output_type": "stream",
     "text": [
      "469/469 [==============================] - 2s 4ms/step - loss: 9.2496 - accuracy: 0.0077\n",
      "Epoch 1/50\n",
      "3125/3125 - 14s - loss: 3.3352 - accuracy: 0.1974\n",
      "Epoch 2/50\n",
      "3125/3125 - 16s - loss: 3.0593 - accuracy: 0.2321\n",
      "Epoch 3/50\n",
      "3125/3125 - 14s - loss: 2.9766 - accuracy: 0.2447\n",
      "Epoch 4/50\n",
      "3125/3125 - 13s - loss: 2.9238 - accuracy: 0.2540\n",
      "Epoch 5/50\n",
      "3125/3125 - 14s - loss: 2.8862 - accuracy: 0.2609\n",
      "Epoch 6/50\n",
      "3125/3125 - 14s - loss: 2.8534 - accuracy: 0.2661\n",
      "Epoch 7/50\n",
      "3125/3125 - 13s - loss: 2.8273 - accuracy: 0.2707\n",
      "Epoch 8/50\n",
      "3125/3125 - 16s - loss: 2.8069 - accuracy: 0.2736\n",
      "Epoch 9/50\n",
      "3125/3125 - 13s - loss: 2.7860 - accuracy: 0.2793\n",
      "Epoch 10/50\n",
      "3125/3125 - 13s - loss: 2.7687 - accuracy: 0.2821\n",
      "Epoch 11/50\n",
      "3125/3125 - 13s - loss: 2.7539 - accuracy: 0.2827\n",
      "Epoch 12/50\n",
      "3125/3125 - 11s - loss: 2.7413 - accuracy: 0.2856\n",
      "Epoch 13/50\n",
      "3125/3125 - 12s - loss: 2.7299 - accuracy: 0.2888\n",
      "Epoch 14/50\n",
      "3125/3125 - 15s - loss: 2.7182 - accuracy: 0.2903\n",
      "Epoch 15/50\n",
      "3125/3125 - 13s - loss: 2.7087 - accuracy: 0.2927\n",
      "Epoch 16/50\n",
      "3125/3125 - 12s - loss: 2.6964 - accuracy: 0.2966\n",
      "Epoch 17/50\n",
      "3125/3125 - 14s - loss: 2.6882 - accuracy: 0.2968\n",
      "Epoch 18/50\n",
      "3125/3125 - 13s - loss: 2.6814 - accuracy: 0.2989\n",
      "Epoch 19/50\n",
      "3125/3125 - 13s - loss: 2.6740 - accuracy: 0.2993\n",
      "Epoch 20/50\n",
      "3125/3125 - 14s - loss: 2.6668 - accuracy: 0.3012\n",
      "Epoch 21/50\n",
      "3125/3125 - 14s - loss: 2.6566 - accuracy: 0.3032\n",
      "Epoch 22/50\n",
      "3125/3125 - 12s - loss: 2.6509 - accuracy: 0.3053\n",
      "Epoch 23/50\n",
      "3125/3125 - 12s - loss: 2.6496 - accuracy: 0.3060\n",
      "Epoch 24/50\n",
      "3125/3125 - 16s - loss: 2.6440 - accuracy: 0.3060\n",
      "Epoch 25/50\n",
      "3125/3125 - 13s - loss: 2.6357 - accuracy: 0.3069\n",
      "Epoch 26/50\n",
      "3125/3125 - 13s - loss: 2.6293 - accuracy: 0.3066\n",
      "Epoch 27/50\n",
      "3125/3125 - 13s - loss: 2.6291 - accuracy: 0.3092\n",
      "Epoch 28/50\n",
      "3125/3125 - 16s - loss: 2.6239 - accuracy: 0.3093\n",
      "Epoch 29/50\n",
      "3125/3125 - 14s - loss: 2.6222 - accuracy: 0.3092\n",
      "Epoch 30/50\n",
      "3125/3125 - 12s - loss: 2.6193 - accuracy: 0.3113\n",
      "Epoch 31/50\n",
      "3125/3125 - 13s - loss: 2.6144 - accuracy: 0.3107\n",
      "Epoch 32/50\n",
      "3125/3125 - 13s - loss: 2.6097 - accuracy: 0.3134\n",
      "Epoch 33/50\n",
      "3125/3125 - 12s - loss: 2.6050 - accuracy: 0.3132\n",
      "Epoch 34/50\n",
      "3125/3125 - 14s - loss: 2.6051 - accuracy: 0.3143\n",
      "Epoch 35/50\n",
      "3125/3125 - 14s - loss: 2.6047 - accuracy: 0.3134\n",
      "Epoch 36/50\n",
      "3125/3125 - 15s - loss: 2.5989 - accuracy: 0.3157\n",
      "Epoch 37/50\n",
      "3125/3125 - 15s - loss: 2.5981 - accuracy: 0.3153\n",
      "Epoch 38/50\n",
      "3125/3125 - 13s - loss: 2.5963 - accuracy: 0.3162\n",
      "Epoch 39/50\n",
      "3125/3125 - 13s - loss: 2.5891 - accuracy: 0.3177\n",
      "Epoch 40/50\n",
      "3125/3125 - 16s - loss: 2.5959 - accuracy: 0.3162\n",
      "Epoch 41/50\n",
      "3125/3125 - 12s - loss: 2.5955 - accuracy: 0.3167\n",
      "Epoch 42/50\n",
      "3125/3125 - 13s - loss: 2.5900 - accuracy: 0.3167\n",
      "Epoch 43/50\n",
      "3125/3125 - 13s - loss: 2.5973 - accuracy: 0.3169\n",
      "Epoch 44/50\n",
      "3125/3125 - 14s - loss: 2.5916 - accuracy: 0.3161\n",
      "Epoch 45/50\n",
      "3125/3125 - 14s - loss: 2.5880 - accuracy: 0.3167\n",
      "Epoch 46/50\n",
      "3125/3125 - 12s - loss: 2.5880 - accuracy: 0.3164\n",
      "Epoch 47/50\n",
      "3125/3125 - 13s - loss: 2.5908 - accuracy: 0.3163\n",
      "Epoch 48/50\n",
      "3125/3125 - 14s - loss: 2.5927 - accuracy: 0.3169\n",
      "Epoch 49/50\n",
      "3125/3125 - 12s - loss: 2.5856 - accuracy: 0.3183\n",
      "Epoch 50/50\n",
      "3125/3125 - 12s - loss: 2.5848 - accuracy: 0.3174\n"
     ]
    }
   ],
   "source": [
    "model2 = tf.keras.models.Sequential([\n",
    "    tf.keras.layers.Dense(90, activation='relu'),\n",
    "    tf.keras.layers.Dense(270, activation='relu'),\n",
    "    tf.keras.layers.Dense(100, activation='relu'),\n",
    "    tf.keras.layers.Dense(138, activation='softmax'),\n",
    "])\n",
    "loss_fn = tf.keras.losses.SparseCategoricalCrossentropy(from_logits=True)\n",
    "model2.compile(optimizer='adam',\n",
    "              loss=loss_fn,\n",
    "              metrics=['accuracy'])\n",
    "model2.evaluate(trainX[10000:25000], trainY[10000:25000])\n",
    "\n",
    "history2 = model2.fit(trainX[:100000], trainY[:100000], epochs=50, verbose=2)"
   ]
  },
  {
   "cell_type": "code",
   "execution_count": 6,
   "id": "8611d35f",
   "metadata": {},
   "outputs": [
    {
     "data": {
      "text/plain": [
       "Text(0.5, 1.0, 'Naive model, accuracy vs epoch')"
      ]
     },
     "execution_count": 6,
     "metadata": {},
     "output_type": "execute_result"
    },
    {
     "data": {
      "image/png": "[encoded data removed]",
      "text/plain": [
       "<Figure size 432x288 with 1 Axes>"
      ]
     },
     "metadata": {
      "needs_background": "light"
     },
     "output_type": "display_data"
    }
   ],
   "source": [
    "plt.plot(history2.history['accuracy'])\n",
    "plt.title(\"Naive model, accuracy vs epoch\")"
   ]
  },
  {
   "cell_type": "code",
   "execution_count": 7,
   "id": "c0f82764",
   "metadata": {},
   "outputs": [
    {
     "name": "stdout",
     "output_type": "stream",
     "text": [
      "469/469 [==============================] - 2s 4ms/step - loss: 2.5441 - accuracy: 0.3265\n"
     ]
    },
    {
     "data": {
      "text/plain": [
       "[2.5441009998321533, 0.3264666795730591]"
      ]
     },
     "execution_count": 7,
     "metadata": {},
     "output_type": "execute_result"
    }
   ],
   "source": [
    "model2.evaluate(trainX[10000:25000], trainY[10000:25000])"
   ]
  },
  {
   "cell_type": "markdown",
   "id": "8cbf9e1a",
   "metadata": {},
   "source": [
    "# Context based model\n",
    "\n",
    "In this model we assume that adjacent frames also hold some information about the phoneme to be predicted. This seems reasonable as most sounds we make last longer than 10ms, the time length of a single frame. To do this, we now take `i-1`, `i` and `i+1` frames as a single list of 120 elements, and the corresponding phoneme to be the `ith` phoneme.\n",
    "\n",
    "Further, due to data labels being catagorical, we use the `SparseCategoricalCrossentropy` as the loss function. `ADAM` optimizer was chosen as per usual models. Similarly, `relu` was the activation function for all layers except the last one, which was activated by `softmax`.\n",
    "\n",
    "The number of layers were chosen by increasing layers and checking if test accuracy was increasing or not. We saw that there is only marginal increase between 2 and 3 layers, so we chose 4 layers to be cautious.\n",
    "\n",
    "The number of nodes in each layers were chosen randomly, but these can also be optimized over."
   ]
  },
  {
   "cell_type": "code",
   "execution_count": 10,
   "id": "9d1fc4d3",
   "metadata": {},
   "outputs": [],
   "source": [
    "trainX_wc = []\n",
    "trainY_wc = []\n",
    "for datapoint in range(len(tempX)):\n",
    "    for frame in range(1, len(tempX[datapoint])-2):\n",
    "        # for each frame in each datapoint, concat neighbouring frames\n",
    "        trainX_wc.append(np.concatenate(tempX[datapoint][frame-1:frame+2]))\n",
    "        trainY_wc.append(tempY[datapoint][frame])\n",
    "trainX_wc = np.array(trainX_wc)\n",
    "trainY_wc = np.array(trainY_wc)\n",
    "args = np.arange(len(trainX_wc))\n",
    "np.random.shuffle(args)\n",
    "trainX_wc = trainX_wc[args]\n",
    "trainY_wc = trainY_wc[args]"
   ]
  },
  {
   "cell_type": "code",
   "execution_count": 11,
   "id": "bf88f613",
   "metadata": {
    "scrolled": true
   },
   "outputs": [
    {
     "name": "stdout",
     "output_type": "stream",
     "text": [
      "469/469 [==============================] - 2s 4ms/step - loss: 17.2994 - accuracy: 0.0088\n",
      "Epoch 1/50\n",
      "3125/3125 - 15s - loss: 3.0628 - accuracy: 0.2535\n",
      "Epoch 2/50\n",
      "3125/3125 - 15s - loss: 2.7020 - accuracy: 0.3103\n",
      "Epoch 3/50\n",
      "3125/3125 - 14s - loss: 2.6027 - accuracy: 0.3327\n",
      "Epoch 4/50\n",
      "3125/3125 - 14s - loss: 2.5394 - accuracy: 0.3433\n",
      "Epoch 5/50\n",
      "3125/3125 - 14s - loss: 2.4901 - accuracy: 0.3543\n",
      "Epoch 6/50\n",
      "3125/3125 - 13s - loss: 2.4590 - accuracy: 0.3598\n",
      "Epoch 7/50\n",
      "3125/3125 - 14s - loss: 2.4375 - accuracy: 0.3653\n",
      "Epoch 8/50\n",
      "3125/3125 - 14s - loss: 2.4160 - accuracy: 0.3695\n",
      "Epoch 9/50\n",
      "3125/3125 - 14s - loss: 2.3972 - accuracy: 0.3714\n",
      "Epoch 10/50\n",
      "3125/3125 - 15s - loss: 2.3780 - accuracy: 0.3776\n",
      "Epoch 11/50\n",
      "3125/3125 - 17s - loss: 2.3680 - accuracy: 0.3802\n",
      "Epoch 12/50\n",
      "3125/3125 - 18s - loss: 2.3627 - accuracy: 0.3812\n",
      "Epoch 13/50\n",
      "3125/3125 - 17s - loss: 2.3439 - accuracy: 0.3849\n",
      "Epoch 14/50\n",
      "3125/3125 - 16s - loss: 2.3387 - accuracy: 0.3865\n",
      "Epoch 15/50\n",
      "3125/3125 - 14s - loss: 2.3296 - accuracy: 0.3894\n",
      "Epoch 16/50\n",
      "3125/3125 - 13s - loss: 2.3186 - accuracy: 0.3910\n",
      "Epoch 17/50\n",
      "3125/3125 - 15s - loss: 2.3185 - accuracy: 0.3918\n",
      "Epoch 18/50\n",
      "3125/3125 - 16s - loss: 2.3095 - accuracy: 0.3943\n",
      "Epoch 19/50\n",
      "3125/3125 - 14s - loss: 2.3084 - accuracy: 0.3938\n",
      "Epoch 20/50\n",
      "3125/3125 - 16s - loss: 2.3032 - accuracy: 0.3947\n",
      "Epoch 21/50\n",
      "3125/3125 - 14s - loss: 2.2974 - accuracy: 0.3986\n",
      "Epoch 22/50\n",
      "3125/3125 - 13s - loss: 2.2976 - accuracy: 0.3982\n",
      "Epoch 23/50\n",
      "3125/3125 - 13s - loss: 2.2905 - accuracy: 0.3987\n",
      "Epoch 24/50\n",
      "3125/3125 - 13s - loss: 2.2911 - accuracy: 0.3987\n",
      "Epoch 25/50\n",
      "3125/3125 - 13s - loss: 2.2817 - accuracy: 0.4024\n",
      "Epoch 26/50\n",
      "3125/3125 - 14s - loss: 2.2822 - accuracy: 0.4012\n",
      "Epoch 27/50\n",
      "3125/3125 - 14s - loss: 2.2822 - accuracy: 0.4017\n",
      "Epoch 28/50\n",
      "3125/3125 - 15s - loss: 2.2805 - accuracy: 0.3991\n",
      "Epoch 29/50\n",
      "3125/3125 - 14s - loss: 2.2789 - accuracy: 0.4028\n",
      "Epoch 30/50\n",
      "3125/3125 - 14s - loss: 2.2703 - accuracy: 0.4054\n",
      "Epoch 31/50\n",
      "3125/3125 - 15s - loss: 2.2758 - accuracy: 0.4053\n",
      "Epoch 32/50\n",
      "3125/3125 - 14s - loss: 2.2773 - accuracy: 0.4029\n",
      "Epoch 33/50\n",
      "3125/3125 - 13s - loss: 2.2728 - accuracy: 0.4054\n",
      "Epoch 34/50\n",
      "3125/3125 - 14s - loss: 2.2724 - accuracy: 0.4043\n",
      "Epoch 35/50\n",
      "3125/3125 - 15s - loss: 2.2732 - accuracy: 0.4061\n",
      "Epoch 36/50\n",
      "3125/3125 - 14s - loss: 2.2724 - accuracy: 0.4067\n",
      "Epoch 37/50\n",
      "3125/3125 - 14s - loss: 2.2683 - accuracy: 0.4055\n",
      "Epoch 38/50\n",
      "3125/3125 - 15s - loss: 2.2638 - accuracy: 0.4073\n",
      "Epoch 39/50\n",
      "3125/3125 - 15s - loss: 2.2689 - accuracy: 0.4058\n",
      "Epoch 40/50\n",
      "3125/3125 - 14s - loss: 2.2626 - accuracy: 0.4063\n",
      "Epoch 41/50\n",
      "3125/3125 - 15s - loss: 2.2721 - accuracy: 0.4067\n",
      "Epoch 42/50\n",
      "3125/3125 - 15s - loss: 2.2632 - accuracy: 0.4090\n",
      "Epoch 43/50\n",
      "3125/3125 - 17s - loss: 2.2828 - accuracy: 0.4041\n",
      "Epoch 44/50\n",
      "3125/3125 - 17s - loss: 2.2744 - accuracy: 0.4070\n",
      "Epoch 45/50\n",
      "3125/3125 - 18s - loss: 2.2748 - accuracy: 0.4054\n",
      "Epoch 46/50\n",
      "3125/3125 - 17s - loss: 2.2624 - accuracy: 0.4088\n",
      "Epoch 47/50\n",
      "3125/3125 - 17s - loss: 2.2661 - accuracy: 0.4076\n",
      "Epoch 48/50\n",
      "3125/3125 - 16s - loss: 2.2693 - accuracy: 0.4077\n",
      "Epoch 49/50\n",
      "3125/3125 - 16s - loss: 2.2589 - accuracy: 0.4094\n",
      "Epoch 50/50\n",
      "3125/3125 - 14s - loss: 2.2688 - accuracy: 0.4074\n"
     ]
    }
   ],
   "source": [
    "model1 = tf.keras.models.Sequential([\n",
    "    tf.keras.layers.Dense(180, activation='relu'),\n",
    "    tf.keras.layers.Dense(270, activation='relu'),\n",
    "    tf.keras.layers.Dense(200, activation='relu'),\n",
    "    tf.keras.layers.Dense(138, activation='softmax'),\n",
    "])\n",
    "\n",
    "loss_fn = tf.keras.losses.SparseCategoricalCrossentropy(from_logits=True)\n",
    "\n",
    "model1.compile(optimizer='adam',\n",
    "              loss=loss_fn,\n",
    "              metrics=['accuracy'])\n",
    "\n",
    "model1.evaluate(trainX_wc[10000:25000], trainY_wc[10000:25000])\n",
    "\n",
    "history1 = model1.fit(trainX_wc[:100000], trainY_wc[:100000], epochs=50, verbose=2)"
   ]
  },
  {
   "cell_type": "code",
   "execution_count": 12,
   "id": "e440dd63",
   "metadata": {},
   "outputs": [
    {
     "data": {
      "text/plain": [
       "Text(0.5, 1.0, 'Context based model, accuracy vs epoch')"
      ]
     },
     "execution_count": 12,
     "metadata": {},
     "output_type": "execute_result"
    },
    {
     "data": {
      "image/png": "[encoded data removed]",
      "text/plain": [
       "<Figure size 432x288 with 1 Axes>"
      ]
     },
     "metadata": {
      "needs_background": "light"
     },
     "output_type": "display_data"
    }
   ],
   "source": [
    "plt.plot(history1.history['accuracy'])\n",
    "plt.title(\"Context based model, accuracy vs epoch\")"
   ]
  },
  {
   "cell_type": "code",
   "execution_count": 13,
   "id": "59362fc9",
   "metadata": {},
   "outputs": [
    {
     "name": "stdout",
     "output_type": "stream",
     "text": [
      "1563/1563 [==============================] - 6s 4ms/step - loss: 2.1767 - accuracy: 0.4236\n"
     ]
    },
    {
     "data": {
      "text/plain": [
       "[2.176734209060669, 0.42361998558044434]"
      ]
     },
     "execution_count": 13,
     "metadata": {},
     "output_type": "execute_result"
    }
   ],
   "source": [
    "model1.evaluate(trainX_wc[25000:75000], trainY_wc[25000:75000])"
   ]
  },
  {
   "cell_type": "markdown",
   "id": "0d45e4a6",
   "metadata": {},
   "source": [
    "# Results\n",
    "\n",
    "1. Accuracy for Naive model - 32.65%\n",
    "2. Accuracy for Context based model - 42.36%\n",
    "\n",
    "From the graph too, we see that the context based model trains to the maximum value faster than the naive model.\n",
    "\n",
    "Thus, there is a clear advantage to using the context based model over the naive model. Further, the exact amount of context can also be found by running the code for more number of context frames and find the maxima. A maxima will be reached since taking too long a segment may have phoneme overlaps."
   ]
  },
  {
   "cell_type": "code",
   "execution_count": null,
   "id": "bc216ae6",
   "metadata": {},
   "outputs": [],
   "source": []
  }
 ],
 "metadata": {
  "kernelspec": {
   "display_name": "Python 3 (ipykernel)",
   "language": "python",
   "name": "python3"
  },
  "language_info": {
   "codemirror_mode": {
    "name": "ipython",
    "version": 3
   },
   "file_extension": ".py",
   "mimetype": "text/x-python",
   "name": "python",
   "nbconvert_exporter": "python",
   "pygments_lexer": "ipython3",
   "version": "3.9.12"
  }
 },
 "nbformat": 4,
 "nbformat_minor": 5
}
